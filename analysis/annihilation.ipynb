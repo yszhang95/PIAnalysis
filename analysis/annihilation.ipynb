{
 "cells": [
  {
   "cell_type": "markdown",
   "id": "f0db5b3b-7f7c-4899-8462-6535f62f09a3",
   "metadata": {},
   "source": [
    "Several reference:\n",
    "- cross section, https://sites.ualberta.ca/~gingrich/courses/phys512/node103.html\n",
    "- units, https://en.wikipedia.org/wiki/Barn_(unit)\n",
    "- atom density of silicon, https://faculty-web.msoe.edu/johnsontimoj/CE3101/files3101/silicon_crystal_structure.pdf\n",
    "\n",
    "The silicon atom density is $5\\times 10^{22} $ atoms/cm$^3$.\n",
    "\n",
    "~~The density of  S-state electron is $10^{23} $/ cm$^{3}$~~\n",
    "\n",
    "Electron density is around $7\\times 10^{23}$ / cm$^3$\n",
    "\n",
    "1 GeV$^{-2}$ = 0.389379 mb.\n",
    "1 mb = 0.1 fm$^2$ = $10^{-27}$cm$^{2}$."
   ]
  },
  {
   "cell_type": "code",
   "execution_count": 1,
   "id": "2dcf206e-0a52-4324-a957-bbf8375da690",
   "metadata": {},
   "outputs": [],
   "source": [
    "import numpy as np"
   ]
  },
  {
   "cell_type": "code",
   "execution_count": 2,
   "id": "966706af",
   "metadata": {},
   "outputs": [],
   "source": [
    "distance = 0.1 # cm\n",
    "silicon_density = 7E23 # electrons / cm^3\n"
   ]
  },
  {
   "cell_type": "code",
   "execution_count": 3,
   "id": "19e3b38d-f023-40aa-b806-0fac2f0ac1ab",
   "metadata": {},
   "outputs": [],
   "source": [
    "def xsec(energy):\n",
    "    \"\"\"energy is in unit of GeV\n",
    "    return cross section per free electron in cm^2\n",
    "    \"\"\"\n",
    "    alpha = 1/137.\n",
    "    m = 0.511E-3 # GeV\n",
    "    # xsec_in_GeVInv2 = np.pi * alpha**2/(m*energy) * np.log(2*energy/m) # GeV^-2\n",
    "    gamma = energy/m\n",
    "    beta = np.sqrt(1-1/gamma**2)\n",
    "    xsec_in_GeVInv2 = np.pi * alpha**2/(m**2 * beta**2 * gamma * (gamma+1)) * (\n",
    "            (gamma + 4 + 1/gamma)*np.log(gamma + np.sqrt(gamma**2 - 1)) - beta * (gamma+3)\n",
    "            )\n",
    "\n",
    "    GeVInv2 = 0.389379 # mb\n",
    "    mb = 1E-27 # cm^2\n",
    "    return xsec_in_GeVInv2 * 1 * GeVInv2 * 1 * mb\n",
    "    "
   ]
  },
  {
   "cell_type": "code",
   "execution_count": 4,
   "id": "27a0a5ab-ef41-4beb-b9f0-f3d60efa112d",
   "metadata": {},
   "outputs": [],
   "source": [
    "def mean_free_path(density, xsec):\n",
    "    \"\"\"density is in unit of electrons/cm^3\n",
    "    xsec is in unit of cm^2\n",
    "    return mean free path in the given density of electrons\n",
    "    \"\"\"\n",
    "    return 1./(density * xsec)"
   ]
  },
  {
   "cell_type": "code",
   "execution_count": 5,
   "id": "55a4e7ea-782d-40b4-bee8-fe7208d56fda",
   "metadata": {},
   "outputs": [],
   "source": [
    "def probability(mean_free_path, path):\n",
    "    \"\"\"mean_free_path is in unit of cm\n",
    "    path is in unit of cm\n",
    "    \"\"\"\n",
    "    return path/mean_free_path"
   ]
  },
  {
   "cell_type": "code",
   "execution_count": 6,
   "id": "ee3a67b5-81e8-45b2-b25a-e5469d2b79db",
   "metadata": {},
   "outputs": [
    {
     "name": "stdout",
     "output_type": "stream",
     "text": [
      "positron energy =  4 MeV.\t xsec per electron = 8.11478e-26 cm^2.\t m.f.p. = 17.6046 cm.\t P under 0.1 cm = 56.8034 E-4\n",
      "positron energy = 10 MeV.\t xsec per electron = 3.98278e-26 cm^2.\t m.f.p. = 35.8687 cm.\t P under 0.1 cm = 27.8795 E-4\n",
      "positron energy = 20 MeV.\t xsec per electron = 2.32235e-26 cm^2.\t m.f.p. = 61.514 cm.\t P under 0.1 cm = 16.2565 E-4\n",
      "positron energy = 30 MeV.\t xsec per electron = 1.68965e-26 cm^2.\t m.f.p. = 84.5484 cm.\t P under 0.1 cm = 11.8275 E-4\n",
      "positron energy = 50 MeV.\t xsec per electron = 1.12685e-26 cm^2.\t m.f.p. = 126.775 cm.\t P under 0.1 cm = 7.88796 E-4\n",
      "positron energy = 65 MeV.\t xsec per electron = 9.13133e-27 cm^2.\t m.f.p. = 156.447 cm.\t P under 0.1 cm = 6.39193 E-4\n",
      "positron energy = 70 MeV.\t xsec per electron = 8.60218e-27 cm^2.\t m.f.p. = 166.071 cm.\t P under 0.1 cm = 6.02152 E-4\n"
     ]
    }
   ],
   "source": [
    "energys = [4, 10, 20, 30, 50, 65, 70]# MeV\n",
    "for energy in energys:\n",
    "    energy_gev = energy * 1E-3 # MeV -> GeV\n",
    "    e_xsec = xsec(energy_gev)\n",
    "    mfp = mean_free_path(silicon_density, e_xsec)\n",
    "    p = probability(mfp, distance)\n",
    "    print(\"positron energy = {:2d} MeV.\\t xsec per electron = {:4g} cm^2.\\t m.f.p. = {:4g} cm.\\t P under {:g} cm = {:4g} E-4\".format(energy, e_xsec, mfp, distance, p*1E4))"
   ]
  },
  {
   "cell_type": "code",
   "execution_count": 7,
   "id": "1c34dd36-7b46-4050-834a-8db538eb6831",
   "metadata": {},
   "outputs": [
    {
     "name": "stdout",
     "output_type": "stream",
     "text": [
      "Integrating from 1.75 to 75.25 MeV, the probability is 0.00114\n"
     ]
    }
   ],
   "source": [
    "# calculate michel\n",
    "# the format is (bin center, bin width, bin content)\n",
    "spectrum = np.loadtxt(\"mutoe_michel_spectrum.txt\")\n",
    "ws = np.array([])\n",
    "probs = np.array([])\n",
    "\n",
    "\n",
    "foundEMin = False\n",
    "\n",
    "emin = 1E20\n",
    "emax = 0\n",
    "\n",
    "psum = 0\n",
    "for e, width, w in spectrum:\n",
    "    if e < 2:\n",
    "        continue\n",
    "    if emin > e - width:\n",
    "        emin = e - width\n",
    "    if emax < e + width:\n",
    "        emax = e + width\n",
    "    energy_gev = e * 1E-3 # MeV -> GeV\n",
    "    e_xsec = xsec(energy_gev)\n",
    "    mfp = mean_free_path(silicon_density, e_xsec)\n",
    "    p = probability(mfp, distance)\n",
    "    probs = np.append(probs, p)\n",
    "    ws = np.append(ws, w)\n",
    "    psum = psum + p * w\n",
    "    # print(e, p, w, p*w)\n",
    "    # print(w)\n",
    "\n",
    "# print(psum)\n",
    "# print(probs)\n",
    "# print(ws)\n",
    "# print(np.sum(ws))\n",
    "print(\"Integrating from {:.2f} to {:.2f} MeV, the probability is {:.5f}\".format(emin, emax, np.sum(probs * ws)))"
   ]
  },
  {
   "cell_type": "code",
   "execution_count": 8,
   "id": "7761f99a",
   "metadata": {},
   "outputs": [
    {
     "data": {
      "text/plain": [
       "0.0005381720613830687"
      ]
     },
     "execution_count": 8,
     "metadata": {},
     "output_type": "execute_result"
    }
   ],
   "source": [
    "1-  (1-0.00114) / (1-6.02152E-4)"
   ]
  },
  {
   "cell_type": "code",
   "execution_count": null,
   "id": "dcdf79d6",
   "metadata": {},
   "outputs": [],
   "source": []
  }
 ],
 "metadata": {
  "kernelspec": {
   "display_name": "Python 3 (ipykernel)",
   "language": "python",
   "name": "python3"
  },
  "language_info": {
   "codemirror_mode": {
    "name": "ipython",
    "version": 3
   },
   "file_extension": ".py",
   "mimetype": "text/x-python",
   "name": "python",
   "nbconvert_exporter": "python",
   "pygments_lexer": "ipython3",
   "version": "3.12.3"
  }
 },
 "nbformat": 4,
 "nbformat_minor": 5
}
