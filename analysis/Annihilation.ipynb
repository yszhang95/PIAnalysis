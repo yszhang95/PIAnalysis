{
 "cells": [
  {
   "cell_type": "markdown",
   "id": "f0db5b3b-7f7c-4899-8462-6535f62f09a3",
   "metadata": {},
   "source": [
    "Several reference:\n",
    "- cross section, https://sites.ualberta.ca/~gingrich/courses/phys512/node103.html\n",
    "- units, https://en.wikipedia.org/wiki/Barn_(unit)\n",
    "- atom density of silicon, https://faculty-web.msoe.edu/johnsontimoj/CE3101/files3101/silicon_crystal_structure.pdf\n",
    "\n",
    "The silicon atom density is $5\\times 10^{22} $ atoms/cm$^3$.\n",
    "\n",
    "~~The density of  S-state electron is $10^{23} $/ cm$^{3}$~~\n",
    "\n",
    "Electron density is around $7\\times 10^{23}$ / cm$^3$\n",
    "\n",
    "1 GeV$^{-2}$ = 0.389379 mb.\n",
    "1 mb = 0.1 fm$^2$ = $10^{-27}$cm$^{2}$."
   ]
  },
  {
   "cell_type": "code",
   "execution_count": 16,
   "id": "2dcf206e-0a52-4324-a957-bbf8375da690",
   "metadata": {},
   "outputs": [],
   "source": [
    "import numpy as np\n",
    "import math"
   ]
  },
  {
   "cell_type": "code",
   "execution_count": 17,
   "id": "19e3b38d-f023-40aa-b806-0fac2f0ac1ab",
   "metadata": {},
   "outputs": [],
   "source": [
    "def xsec(energy):\n",
    "    \"\"\"energy is in unit of GeV\n",
    "    return cross section in cm^2\n",
    "    \"\"\"\n",
    "    alpha = 1/137.\n",
    "    m = 0.511E-3 # GeV\n",
    "    # xsec_in_GeVInv2 = np.pi * alpha**2/(m*energy) * np.log(2*energy/m) # GeV^-2\n",
    "    gamma = energy/m\n",
    "    beta = np.sqrt(1-1/gamma**2)\n",
    "    xsec_in_GeVInv2 = np.pi * alpha**2/(m**2 * beta**2 * gamma * (gamma+1)) * (\n",
    "            (gamma + 4 + 1/gamma)*np.log(gamma + np.sqrt(gamma**2 - 1)) - beta * (gamma+3)\n",
    "            )\n",
    "\n",
    "    GeVInv2 = 0.389379 # mb\n",
    "    mb = 1E-27 # cm^2\n",
    "    return xsec_in_GeVInv2 * 1 * GeVInv2 * 1 * mb\n",
    "    "
   ]
  },
  {
   "cell_type": "code",
   "execution_count": 18,
   "id": "27a0a5ab-ef41-4beb-b9f0-f3d60efa112d",
   "metadata": {},
   "outputs": [],
   "source": [
    "def mean_free_path(density, xsec):\n",
    "    \"\"\"density is in unit of electrons/cm^3\n",
    "    xsec is in unit of cm^2\n",
    "    return mean free path\n",
    "    \"\"\"\n",
    "    return 1./(density * xsec)"
   ]
  },
  {
   "cell_type": "code",
   "execution_count": 19,
   "id": "55a4e7ea-782d-40b4-bee8-fe7208d56fda",
   "metadata": {},
   "outputs": [],
   "source": [
    "def probability(mean_free_path, path):\n",
    "    \"\"\"mean_free_path is in unit of cm\n",
    "    path is in unit of cm\n",
    "    \"\"\"\n",
    "    return path/mean_free_path"
   ]
  },
  {
   "cell_type": "code",
   "execution_count": 20,
   "id": "ee3a67b5-81e8-45b2-b25a-e5469d2b79db",
   "metadata": {},
   "outputs": [
    {
     "name": "stdout",
     "output_type": "stream",
     "text": [
      "positron energy =  4 MeV.\t xsec = 8.11478e-26 cm^2.\t m.f.p. = 17.604571 cm.\t P under 1mm = 56.803429 E-4\n",
      "positron energy = 10 MeV.\t xsec = 3.98278e-26 cm^2.\t m.f.p. = 35.868660 cm.\t P under 1mm = 27.879492 E-4\n",
      "positron energy = 20 MeV.\t xsec = 2.32235e-26 cm^2.\t m.f.p. = 61.513985 cm.\t P under 1mm = 16.256466 E-4\n",
      "positron energy = 30 MeV.\t xsec = 1.68965e-26 cm^2.\t m.f.p. = 84.548403 cm.\t P under 1mm = 11.827544 E-4\n",
      "positron energy = 50 MeV.\t xsec = 1.12685e-26 cm^2.\t m.f.p. = 126.775458 cm.\t P under 1mm = 7.887962 E-4\n",
      "positron energy = 65 MeV.\t xsec = 9.13133e-27 cm^2.\t m.f.p. = 156.447296 cm.\t P under 1mm = 6.391929 E-4\n"
     ]
    }
   ],
   "source": [
    "energys = [4, 10, 20, 30, 50, 65]# MeV\n",
    "silicon_density = 7E23 # electrons / cm^3\n",
    "for energy in energys:\n",
    "    energy_gev = energy * 1E-3 # MeV -> GeV\n",
    "    e_xsec = xsec(energy_gev)\n",
    "    mfp = mean_free_path(silicon_density, e_xsec)\n",
    "    p = probability(mfp, 0.1)\n",
    "    print(\"positron energy = {:2d} MeV.\\t xsec = {:6g} cm^2.\\t m.f.p. = {:6f} cm.\\t P under 1mm = {:6f} E-4\".format(energy, e_xsec, mfp, p*1E4))"
   ]
  },
  {
   "cell_type": "code",
   "execution_count": null,
   "id": "1c34dd36-7b46-4050-834a-8db538eb6831",
   "metadata": {},
   "outputs": [],
   "source": []
  }
 ],
 "metadata": {
  "kernelspec": {
   "display_name": "Python 3 (ipykernel)",
   "language": "python",
   "name": "python3"
  },
  "language_info": {
   "codemirror_mode": {
    "name": "ipython",
    "version": 3
   },
   "file_extension": ".py",
   "mimetype": "text/x-python",
   "name": "python",
   "nbconvert_exporter": "python",
   "pygments_lexer": "ipython3",
   "version": "3.12.3"
  }
 },
 "nbformat": 4,
 "nbformat_minor": 5
}
